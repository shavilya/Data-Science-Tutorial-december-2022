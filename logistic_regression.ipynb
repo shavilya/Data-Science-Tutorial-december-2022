{
 "cells": [
  {
   "cell_type": "code",
   "execution_count": 14,
   "metadata": {},
   "outputs": [],
   "source": [
    "import numpy as np # linear algebra\n",
    "import pandas as pd # data processing, CSV file I/O (e.g. pd.read_csv)\n",
    "\n",
    "#For Data Viz. \n",
    "import matplotlib.pyplot as plt\n",
    "import seaborn as sns \n",
    "\n",
    "#For Warnings\n",
    "import warnings\n",
    "warnings.filterwarnings('ignore')\n",
    "\n",
    "#For Options \n",
    "pd.set_option('display.max_columns' , None)\n",
    "pd.set_option('display.max_rows', None)\n",
    "\n",
    "#For Data Splitting \n",
    "from sklearn.model_selection import train_test_split \n",
    "\n",
    "#For Model Building \n",
    "from sklearn.linear_model import LogisticRegression \n",
    "\n",
    "#for Model Evaluation \n",
    "from sklearn.metrics import accuracy_score, classification_report \n",
    "\n",
    "import os\n",
    "for dirname, _, filenames in os.walk('/kaggle/input'):\n",
    "    for filename in filenames:\n",
    "        print(os.path.join(dirname, filename))"
   ]
  },
  {
   "cell_type": "code",
   "execution_count": 5,
   "metadata": {},
   "outputs": [
    {
     "data": {
      "text/html": [
       "<div>\n",
       "<style scoped>\n",
       "    .dataframe tbody tr th:only-of-type {\n",
       "        vertical-align: middle;\n",
       "    }\n",
       "\n",
       "    .dataframe tbody tr th {\n",
       "        vertical-align: top;\n",
       "    }\n",
       "\n",
       "    .dataframe thead th {\n",
       "        text-align: right;\n",
       "    }\n",
       "</style>\n",
       "<table border=\"1\" class=\"dataframe\">\n",
       "  <thead>\n",
       "    <tr style=\"text-align: right;\">\n",
       "      <th></th>\n",
       "      <th>age</th>\n",
       "      <th>bought_insurance</th>\n",
       "    </tr>\n",
       "  </thead>\n",
       "  <tbody>\n",
       "    <tr>\n",
       "      <th>0</th>\n",
       "      <td>22</td>\n",
       "      <td>0</td>\n",
       "    </tr>\n",
       "    <tr>\n",
       "      <th>1</th>\n",
       "      <td>25</td>\n",
       "      <td>0</td>\n",
       "    </tr>\n",
       "    <tr>\n",
       "      <th>2</th>\n",
       "      <td>47</td>\n",
       "      <td>1</td>\n",
       "    </tr>\n",
       "    <tr>\n",
       "      <th>3</th>\n",
       "      <td>52</td>\n",
       "      <td>0</td>\n",
       "    </tr>\n",
       "    <tr>\n",
       "      <th>4</th>\n",
       "      <td>46</td>\n",
       "      <td>1</td>\n",
       "    </tr>\n",
       "  </tbody>\n",
       "</table>\n",
       "</div>"
      ],
      "text/plain": [
       "   age  bought_insurance\n",
       "0   22                 0\n",
       "1   25                 0\n",
       "2   47                 1\n",
       "3   52                 0\n",
       "4   46                 1"
      ]
     },
     "execution_count": 5,
     "metadata": {},
     "output_type": "execute_result"
    }
   ],
   "source": [
    "data_import = pd.read_csv('insurance_data.csv')\n",
    "data_import.head()"
   ]
  },
  {
   "cell_type": "code",
   "execution_count": 8,
   "metadata": {},
   "outputs": [],
   "source": [
    "features = data_import.drop(['bought_insurance'], axis = 1)\n",
    "label = data_import['bought_insurance']"
   ]
  },
  {
   "cell_type": "code",
   "execution_count": 10,
   "metadata": {},
   "outputs": [
    {
     "name": "stdout",
     "output_type": "stream",
     "text": [
      "Shape of x_train : (18, 1)\n",
      "Shape of y_train : (18,)\n",
      "Shape of x_test : (9, 1)\n",
      "Shape of y_test: (9,)\n"
     ]
    }
   ],
   "source": [
    "def splitted_data(features , label) : \n",
    "    x_train,x_test,y_train,y_test = train_test_split(features, label , test_size = 0.3)\n",
    "    \n",
    "    print(f\"Shape of x_train : {x_train.shape}\")\n",
    "    print(f\"Shape of y_train : {y_train.shape}\")\n",
    "    print(f\"Shape of x_test : {x_test.shape}\")\n",
    "    print(f\"Shape of y_test: {y_test.shape}\")\n",
    "    return x_train,x_test,y_train,y_test\n",
    "\n",
    "x_train,x_test,y_train,y_test = splitted_data(features , label)"
   ]
  },
  {
   "cell_type": "code",
   "execution_count": 12,
   "metadata": {},
   "outputs": [],
   "source": [
    "pred_dict = {} \n",
    "\n",
    "def model(modelname , x_train  , x_test , y_train , y_test) : \n",
    "    \n",
    "    model_build = modelname(random_state = 42)\n",
    "    model_build.fit(x_train,y_train)\n",
    "    \n",
    "    y_pred = model_build.predict(x_test) \n",
    "    \n",
    "    return y_pred \n",
    "\n",
    "y_pred = model(LogisticRegression, x_train,x_test,y_train,y_test)\n",
    "pred_dict['Logistic_y_pred'] = y_pred "
   ]
  },
  {
   "cell_type": "code",
   "execution_count": 15,
   "metadata": {},
   "outputs": [
    {
     "name": "stdout",
     "output_type": "stream",
     "text": [
      "Classification Report : \n",
      "              precision    recall  f1-score   support\n",
      "\n",
      "           0       0.80      1.00      0.89         4\n",
      "           1       1.00      0.80      0.89         5\n",
      "\n",
      "    accuracy                           0.89         9\n",
      "   macro avg       0.90      0.90      0.89         9\n",
      "weighted avg       0.91      0.89      0.89         9\n",
      "\n"
     ]
    },
    {
     "data": {
      "text/plain": [
       "0.8888888888888888"
      ]
     },
     "execution_count": 15,
     "metadata": {},
     "output_type": "execute_result"
    }
   ],
   "source": [
    "# Classification Metrics Evaluation function \n",
    "\n",
    "metrics_dict = {}\n",
    "def classification_metrics (y_test , y_pred) : \n",
    "    \n",
    "    acc_score = accuracy_score(y_test,y_pred)\n",
    "    print(f\"Classification Report : \\n{classification_report(y_test,y_pred)}\")\n",
    "    \n",
    "    return acc_score \n",
    "    \n",
    "\n",
    "classification_metrics(y_test , y_pred)"
   ]
  }
 ],
 "metadata": {
  "kernelspec": {
   "display_name": "Python 3.9.13 ('minimal_ds')",
   "language": "python",
   "name": "python3"
  },
  "language_info": {
   "codemirror_mode": {
    "name": "ipython",
    "version": 3
   },
   "file_extension": ".py",
   "mimetype": "text/x-python",
   "name": "python",
   "nbconvert_exporter": "python",
   "pygments_lexer": "ipython3",
   "version": "3.9.13"
  },
  "orig_nbformat": 4,
  "vscode": {
   "interpreter": {
    "hash": "7959f14047294630bb2af846424dd9a40c4fddad74ac2636a67223e284720d82"
   }
  }
 },
 "nbformat": 4,
 "nbformat_minor": 2
}
